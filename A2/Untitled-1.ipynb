{
 "cells": [
  {
   "cell_type": "code",
   "execution_count": 24,
   "metadata": {},
   "outputs": [],
   "source": [
    "from os import path\n",
    "if not path.exists('utils.py'): # If running on colab: the first time download and unzip additional files\n",
    "    !wget https://biolab.csr.unibo.it/samples/fr/files.zip\n",
    "    !unzip files.zip\n",
    "    \n",
    "    \n",
    "import utils  # Run utils.py for helper functions\n",
    "import math\n",
    "import os\n",
    "import numpy as np\n",
    "import cv2 as cv\n",
    "import matplotlib.pyplot as plt\n",
    "from utils import *\n",
    "from ipywidgets import interact"
   ]
  },
  {
   "cell_type": "code",
   "execution_count": null,
   "metadata": {},
   "outputs": [],
   "source": [
    "# Read Fingerprints in the fingerprint subdirectory\n",
    "def read_fingerprints():\n",
    "\n",
    "    directoryPath = './fingerprint-/DB1_B/'\n",
    "    fingerprints = []\n",
    "    resizedImages = []\n",
    "\n",
    "    for filename in os.listdir(directoryPath):\n",
    "        \n",
    "        filepath = os.path.join(directoryPath, filename)\n",
    "        image = cv.imread(filepath)\n",
    "\n",
    "        if fingerprints is not None:\n",
    "\n",
    "            fingerprints.append(image)\n",
    "\n",
    "        else:\n",
    "            print(\"Failed to Read image of %s\\n\" % filename)\n",
    "\n",
    "    return fingerprints"
   ]
  }
 ],
 "metadata": {
  "kernelspec": {
   "display_name": "Python 3",
   "language": "python",
   "name": "python3"
  },
  "language_info": {
   "codemirror_mode": {
    "name": "ipython",
    "version": 3
   },
   "file_extension": ".py",
   "mimetype": "text/x-python",
   "name": "python",
   "nbconvert_exporter": "python",
   "pygments_lexer": "ipython3",
   "version": "3.10.12"
  }
 },
 "nbformat": 4,
 "nbformat_minor": 2
}
